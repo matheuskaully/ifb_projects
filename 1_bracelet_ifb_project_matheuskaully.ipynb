{
  "nbformat": 4,
  "nbformat_minor": 0,
  "metadata": {
    "colab": {
      "name": "1. bracelet-ifb-project-matheuskaully.ipynb",
      "provenance": [],
      "collapsed_sections": [],
      "authorship_tag": "ABX9TyM0cwCdYDKKZbDPXumitKSZ",
      "include_colab_link": true
    },
    "kernelspec": {
      "name": "python3",
      "display_name": "Python 3"
    },
    "language_info": {
      "name": "python"
    }
  },
  "cells": [
    {
      "cell_type": "markdown",
      "metadata": {
        "id": "view-in-github",
        "colab_type": "text"
      },
      "source": [
        "<a href=\"https://colab.research.google.com/github/matheuskaully/ifb_projects/blob/main/1_bracelet_ifb_project_matheuskaully.ipynb\" target=\"_parent\"><img src=\"https://colab.research.google.com/assets/colab-badge.svg\" alt=\"Open In Colab\"/></a>"
      ]
    },
    {
      "cell_type": "markdown",
      "source": [
        "**1. Importanto e extraindo o arquivo zip:**\n",
        "\n"
      ],
      "metadata": {
        "id": "nvIBZXoFZPZs"
      }
    },
    {
      "cell_type": "code",
      "source": [
        "from zipfile import ZipFile\n",
        "import os\n",
        "import pandas as pd\n",
        "import csv\n",
        "\n",
        "#download dos dados: https://drive.google.com/file/d/1xdHaCrNs9sLbO5otCcKoR2TsO2-Uhhnv/view\n",
        "\n",
        "#extraindo arquivo HMP_Dataset.zip\n",
        "with ZipFile('/content/HMP_Dataset.zip', 'r') as hmp_dataset:\n",
        "  hmp_dataset.extractall()\n",
        "  print('Extraído!')\n"
      ],
      "metadata": {
        "id": "4sdlknhMZadR",
        "colab": {
          "base_uri": "https://localhost:8080/"
        },
        "outputId": "7a674d3d-1428-42fb-9c28-909ddf29c13a"
      },
      "execution_count": 1,
      "outputs": [
        {
          "output_type": "stream",
          "name": "stdout",
          "text": [
            "Extraído!\n"
          ]
        }
      ]
    },
    {
      "cell_type": "markdown",
      "source": [
        " **2. Criando arquivo de dados único**"
      ],
      "metadata": {
        "id": "bNAGJOiTZS8u"
      }
    },
    {
      "cell_type": "code",
      "source": [
        "with open('/content/arquivo_unico.txt', 'a+'): #execute uma única vez para criar o arquivo\n",
        "  print('Arquivo criado!')\n",
        "  pass"
      ],
      "metadata": {
        "colab": {
          "base_uri": "https://localhost:8080/"
        },
        "id": "7Ojp_fPRZTke",
        "outputId": "b9c6766f-ac1a-4df9-91aa-8fabbaf7d594"
      },
      "execution_count": 12,
      "outputs": [
        {
          "output_type": "stream",
          "name": "stdout",
          "text": [
            "Arquivo criado!\n"
          ]
        }
      ]
    },
    {
      "cell_type": "markdown",
      "source": [
        "**3. Lendo arquivos para criar DataFrame:**"
      ],
      "metadata": {
        "id": "H_y7tKLhbrbV"
      }
    },
    {
      "cell_type": "code",
      "execution_count": 13,
      "metadata": {
        "id": "Rtl7xbdfneHX"
      },
      "outputs": [],
      "source": [
        "#salvando o diretório na variável \n",
        "caminho_pasta = '/content/HMP_Dataset/'\n",
        "\n",
        "#salvando lista de arquivos da pasta \"HMP_Dataset\"\n",
        "lista_pastas = os.listdir(caminho_pasta)\n",
        "\n",
        "#função para ler cada arquivo\n",
        "def ler_arq_texto(caminho_arq): \n",
        "    with open(caminho_arq, 'r') as c: \n",
        "        lido = c.read()\n",
        "        return lido\n",
        "\n",
        "#navegando pasta por pasta\n",
        "for pasta_por_pasta in lista_pastas:\n",
        "  caminho_pasta = f'/content/HMP_Dataset/{pasta_por_pasta}'\n",
        "  os.chdir(caminho_pasta)\n",
        "\n",
        "  #navegando arquivo por arquivo, abrindo um por um\n",
        "  for arq in os.listdir(): \n",
        "     if arq.endswith('.txt'):\n",
        "         caminho_arq = f'{caminho_pasta}/{arq}'\n",
        "         \n",
        "         with open('/content/arquivo_unico.txt', 'a') as arq_unico:\n",
        "           arq_unico.write(ler_arq_texto(caminho_arq))\n",
        "           arq_unico.write('\\n')\n",
        "           pass\n",
        "   \n",
        "#Atenção: é interessante esperar uns 15 segundos até que o arquivo de texto seja totalmente preenchido\n",
        "#Rode o próximo bloco de código somente após o tempo mencionado acima."
      ]
    },
    {
      "cell_type": "markdown",
      "source": [
        "**4. Lendo arquivo único e tranformando em tabela**"
      ],
      "metadata": {
        "id": "cbHSZdixCKK_"
      }
    },
    {
      "cell_type": "code",
      "source": [
        "#lendo arquivo único .txt criado anteriormente\n",
        "lendo_arquivo = pd.read_csv('/content/arquivo_unico.txt', delimiter=' ')\n",
        "\n",
        "#transformando .txt em .csv\n",
        "lendo_arquivo.to_csv('/content/arquivo_unico.csv', index=None)\n",
        "\n",
        "#Atenção: é interessante esperar uns 15 segundos até que o arquivo de texto seja totalmente preenchido\n",
        "#Rode o próximo bloco de código somente após o tempo mencionado acima."
      ],
      "metadata": {
        "id": "Ty4xoHV3i9Gc"
      },
      "execution_count": 14,
      "outputs": []
    },
    {
      "cell_type": "markdown",
      "source": [
        "**5. Abrindo tabela e gerando o DataFrame**"
      ],
      "metadata": {
        "id": "NP7-eInHCRE1"
      }
    },
    {
      "cell_type": "code",
      "source": [
        "#abrindo .csv, criando dataframe e renomeando colunas\n",
        "with open(\"/content/arquivo_unico.csv\") as arq_csv:\n",
        "    ler_csv = csv.reader(arq_csv)\n",
        "    df = pd.DataFrame(ler_csv, columns=['x', 'y', 'z'])"
      ],
      "metadata": {
        "id": "Yw9tdRl5r-55"
      },
      "execution_count": 15,
      "outputs": []
    },
    {
      "cell_type": "code",
      "source": [
        "#continuação\n",
        "df"
      ],
      "metadata": {
        "id": "1ZOpmDRMCRKl",
        "colab": {
          "base_uri": "https://localhost:8080/",
          "height": 424
        },
        "outputId": "934dc398-3e65-47fd-c393-d29b2c6e1085"
      },
      "execution_count": 16,
      "outputs": [
        {
          "output_type": "execute_result",
          "data": {
            "text/plain": [
              "         x   y   z\n",
              "0       28  41  50\n",
              "1       28  41  50\n",
              "2       28  41  51\n",
              "3       28  42  52\n",
              "4       30  40  51\n",
              "...     ..  ..  ..\n",
              "479284  22  45  46\n",
              "479285  22  46  47\n",
              "479286  22  44  45\n",
              "479287  23  45  46\n",
              "479288  23  44  46\n",
              "\n",
              "[479289 rows x 3 columns]"
            ],
            "text/html": [
              "\n",
              "  <div id=\"df-794a308b-a342-4b15-986b-78a8b4cdcdc7\">\n",
              "    <div class=\"colab-df-container\">\n",
              "      <div>\n",
              "<style scoped>\n",
              "    .dataframe tbody tr th:only-of-type {\n",
              "        vertical-align: middle;\n",
              "    }\n",
              "\n",
              "    .dataframe tbody tr th {\n",
              "        vertical-align: top;\n",
              "    }\n",
              "\n",
              "    .dataframe thead th {\n",
              "        text-align: right;\n",
              "    }\n",
              "</style>\n",
              "<table border=\"1\" class=\"dataframe\">\n",
              "  <thead>\n",
              "    <tr style=\"text-align: right;\">\n",
              "      <th></th>\n",
              "      <th>x</th>\n",
              "      <th>y</th>\n",
              "      <th>z</th>\n",
              "    </tr>\n",
              "  </thead>\n",
              "  <tbody>\n",
              "    <tr>\n",
              "      <th>0</th>\n",
              "      <td>28</td>\n",
              "      <td>41</td>\n",
              "      <td>50</td>\n",
              "    </tr>\n",
              "    <tr>\n",
              "      <th>1</th>\n",
              "      <td>28</td>\n",
              "      <td>41</td>\n",
              "      <td>50</td>\n",
              "    </tr>\n",
              "    <tr>\n",
              "      <th>2</th>\n",
              "      <td>28</td>\n",
              "      <td>41</td>\n",
              "      <td>51</td>\n",
              "    </tr>\n",
              "    <tr>\n",
              "      <th>3</th>\n",
              "      <td>28</td>\n",
              "      <td>42</td>\n",
              "      <td>52</td>\n",
              "    </tr>\n",
              "    <tr>\n",
              "      <th>4</th>\n",
              "      <td>30</td>\n",
              "      <td>40</td>\n",
              "      <td>51</td>\n",
              "    </tr>\n",
              "    <tr>\n",
              "      <th>...</th>\n",
              "      <td>...</td>\n",
              "      <td>...</td>\n",
              "      <td>...</td>\n",
              "    </tr>\n",
              "    <tr>\n",
              "      <th>479284</th>\n",
              "      <td>22</td>\n",
              "      <td>45</td>\n",
              "      <td>46</td>\n",
              "    </tr>\n",
              "    <tr>\n",
              "      <th>479285</th>\n",
              "      <td>22</td>\n",
              "      <td>46</td>\n",
              "      <td>47</td>\n",
              "    </tr>\n",
              "    <tr>\n",
              "      <th>479286</th>\n",
              "      <td>22</td>\n",
              "      <td>44</td>\n",
              "      <td>45</td>\n",
              "    </tr>\n",
              "    <tr>\n",
              "      <th>479287</th>\n",
              "      <td>23</td>\n",
              "      <td>45</td>\n",
              "      <td>46</td>\n",
              "    </tr>\n",
              "    <tr>\n",
              "      <th>479288</th>\n",
              "      <td>23</td>\n",
              "      <td>44</td>\n",
              "      <td>46</td>\n",
              "    </tr>\n",
              "  </tbody>\n",
              "</table>\n",
              "<p>479289 rows × 3 columns</p>\n",
              "</div>\n",
              "      <button class=\"colab-df-convert\" onclick=\"convertToInteractive('df-794a308b-a342-4b15-986b-78a8b4cdcdc7')\"\n",
              "              title=\"Convert this dataframe to an interactive table.\"\n",
              "              style=\"display:none;\">\n",
              "        \n",
              "  <svg xmlns=\"http://www.w3.org/2000/svg\" height=\"24px\"viewBox=\"0 0 24 24\"\n",
              "       width=\"24px\">\n",
              "    <path d=\"M0 0h24v24H0V0z\" fill=\"none\"/>\n",
              "    <path d=\"M18.56 5.44l.94 2.06.94-2.06 2.06-.94-2.06-.94-.94-2.06-.94 2.06-2.06.94zm-11 1L8.5 8.5l.94-2.06 2.06-.94-2.06-.94L8.5 2.5l-.94 2.06-2.06.94zm10 10l.94 2.06.94-2.06 2.06-.94-2.06-.94-.94-2.06-.94 2.06-2.06.94z\"/><path d=\"M17.41 7.96l-1.37-1.37c-.4-.4-.92-.59-1.43-.59-.52 0-1.04.2-1.43.59L10.3 9.45l-7.72 7.72c-.78.78-.78 2.05 0 2.83L4 21.41c.39.39.9.59 1.41.59.51 0 1.02-.2 1.41-.59l7.78-7.78 2.81-2.81c.8-.78.8-2.07 0-2.86zM5.41 20L4 18.59l7.72-7.72 1.47 1.35L5.41 20z\"/>\n",
              "  </svg>\n",
              "      </button>\n",
              "      \n",
              "  <style>\n",
              "    .colab-df-container {\n",
              "      display:flex;\n",
              "      flex-wrap:wrap;\n",
              "      gap: 12px;\n",
              "    }\n",
              "\n",
              "    .colab-df-convert {\n",
              "      background-color: #E8F0FE;\n",
              "      border: none;\n",
              "      border-radius: 50%;\n",
              "      cursor: pointer;\n",
              "      display: none;\n",
              "      fill: #1967D2;\n",
              "      height: 32px;\n",
              "      padding: 0 0 0 0;\n",
              "      width: 32px;\n",
              "    }\n",
              "\n",
              "    .colab-df-convert:hover {\n",
              "      background-color: #E2EBFA;\n",
              "      box-shadow: 0px 1px 2px rgba(60, 64, 67, 0.3), 0px 1px 3px 1px rgba(60, 64, 67, 0.15);\n",
              "      fill: #174EA6;\n",
              "    }\n",
              "\n",
              "    [theme=dark] .colab-df-convert {\n",
              "      background-color: #3B4455;\n",
              "      fill: #D2E3FC;\n",
              "    }\n",
              "\n",
              "    [theme=dark] .colab-df-convert:hover {\n",
              "      background-color: #434B5C;\n",
              "      box-shadow: 0px 1px 3px 1px rgba(0, 0, 0, 0.15);\n",
              "      filter: drop-shadow(0px 1px 2px rgba(0, 0, 0, 0.3));\n",
              "      fill: #FFFFFF;\n",
              "    }\n",
              "  </style>\n",
              "\n",
              "      <script>\n",
              "        const buttonEl =\n",
              "          document.querySelector('#df-794a308b-a342-4b15-986b-78a8b4cdcdc7 button.colab-df-convert');\n",
              "        buttonEl.style.display =\n",
              "          google.colab.kernel.accessAllowed ? 'block' : 'none';\n",
              "\n",
              "        async function convertToInteractive(key) {\n",
              "          const element = document.querySelector('#df-794a308b-a342-4b15-986b-78a8b4cdcdc7');\n",
              "          const dataTable =\n",
              "            await google.colab.kernel.invokeFunction('convertToInteractive',\n",
              "                                                     [key], {});\n",
              "          if (!dataTable) return;\n",
              "\n",
              "          const docLinkHtml = 'Like what you see? Visit the ' +\n",
              "            '<a target=\"_blank\" href=https://colab.research.google.com/notebooks/data_table.ipynb>data table notebook</a>'\n",
              "            + ' to learn more about interactive tables.';\n",
              "          element.innerHTML = '';\n",
              "          dataTable['output_type'] = 'display_data';\n",
              "          await google.colab.output.renderOutput(dataTable, element);\n",
              "          const docLink = document.createElement('div');\n",
              "          docLink.innerHTML = docLinkHtml;\n",
              "          element.appendChild(docLink);\n",
              "        }\n",
              "      </script>\n",
              "    </div>\n",
              "  </div>\n",
              "  "
            ]
          },
          "metadata": {},
          "execution_count": 16
        }
      ]
    }
  ]
}